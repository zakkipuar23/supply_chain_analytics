{
 "cells": [
  {
   "cell_type": "markdown",
   "metadata": {},
   "source": [
    "# Linear Programing (LP) is a Powerful Modeling Tool for Optimization\n",
    "\n",
    "Optimization method is using a mathematical model whose requirements are **linear relationships**\n",
    "\n",
    "There are 3 Basic Components in LP:\n",
    "- **Decision Variables** = what you can control\n",
    "- **Objective Function** = math expression that uses variables to express goal\n",
    "- **Constraints** = math expression that describe the limits of a solutions"
   ]
  },
  {
   "cell_type": "markdown",
   "metadata": {},
   "source": [
    "# 1. Let's start not from business case, but with our daily activity : which is exercise"
   ]
  },
  {
   "cell_type": "code",
   "execution_count": 9,
   "metadata": {},
   "outputs": [
    {
     "data": {
      "text/html": [
       "<div>\n",
       "<style scoped>\n",
       "    .dataframe tbody tr th:only-of-type {\n",
       "        vertical-align: middle;\n",
       "    }\n",
       "\n",
       "    .dataframe tbody tr th {\n",
       "        vertical-align: top;\n",
       "    }\n",
       "\n",
       "    .dataframe thead th {\n",
       "        text-align: right;\n",
       "    }\n",
       "</style>\n",
       "<table border=\"1\" class=\"dataframe\">\n",
       "  <thead>\n",
       "    <tr style=\"text-align: right;\">\n",
       "      <th></th>\n",
       "      <th>Variable</th>\n",
       "      <th>Push up</th>\n",
       "      <th>Running</th>\n",
       "    </tr>\n",
       "  </thead>\n",
       "  <tbody>\n",
       "    <tr>\n",
       "      <td>0</td>\n",
       "      <td>Minutes</td>\n",
       "      <td>0.2 per push up</td>\n",
       "      <td>10 per mile</td>\n",
       "    </tr>\n",
       "    <tr>\n",
       "      <td>1</td>\n",
       "      <td>Calories</td>\n",
       "      <td>3 per push up</td>\n",
       "      <td>130 per mile</td>\n",
       "    </tr>\n",
       "  </tbody>\n",
       "</table>\n",
       "</div>"
      ],
      "text/plain": [
       "   Variable          Push up       Running\n",
       "0   Minutes  0.2 per push up   10 per mile\n",
       "1  Calories    3 per push up  130 per mile"
      ]
     },
     "execution_count": 9,
     "metadata": {},
     "output_type": "execute_result"
    }
   ],
   "source": [
    "import pandas as pd\n",
    "\n",
    "data_basic =[['Minutes','0.2 per push up','10 per mile'],\n",
    "             ['Calories','3 per push up','130 per mile']]\n",
    "\n",
    "df_exercise = pd.DataFrame(data_basic,columns=['Variable','Push up','Running'])\n",
    "\n",
    "df_exercise"
   ]
  },
  {
   "cell_type": "markdown",
   "metadata": {},
   "source": [
    "# Let's discuss the basic components of an LP from example above\n",
    "\n",
    "- Decision Variables = What we can control. In this case, is Number of Pushups & Number of Miles Ran\n",
    "\n",
    "- Objective Function = Math expression that uses variables to express goal. In this case, is shown by math logic below :\n",
    "\n",
    "<center> Max (3 * Number of Pushups + 130 * Number of Miles) </center>\n",
    "\n",
    "- Constraints = Math expression that describe the limits of a solutions. In this case, is shown by some math logic below :\n",
    "\n",
    "<center> 0.2 * Number of Pushups + 10 * Number of Miles ≤ 10 </center>\n",
    "\n",
    "<center> Number of Pushups ≥ 0 </center>\n",
    "\n",
    "<center> Number of Miles ≥ 0 </center>"
   ]
  },
  {
   "cell_type": "code",
   "execution_count": 10,
   "metadata": {},
   "outputs": [],
   "source": [
    "#initialize model\n",
    "model_basic = LpProblem(\"Burn as many calories as possible\", LpMaximize)"
   ]
  },
  {
   "cell_type": "code",
   "execution_count": 11,
   "metadata": {},
   "outputs": [],
   "source": [
    "#define decision variable\n",
    "pushup = LpVariable('pushup', lowBound=0, cat='Integer')\n",
    "run = LpVariable('run', lowBound=0, cat='Integer')"
   ]
  },
  {
   "cell_type": "code",
   "execution_count": 12,
   "metadata": {},
   "outputs": [],
   "source": [
    "# Define Objective Function\n",
    "model_basic += 3 * pushup + 130 * run\n",
    "\n",
    "# Define constraints\n",
    "model_basic += 0.2 * pushup + 10 * run <= 10"
   ]
  },
  {
   "cell_type": "code",
   "execution_count": 15,
   "metadata": {},
   "outputs": [
    {
     "name": "stdout",
     "output_type": "stream",
     "text": [
      "Do 50.0 push up\n",
      "Do 0.0 running\n"
     ]
    }
   ],
   "source": [
    "# solve the model\n",
    "model_basic.solve()\n",
    "print(\"Do {} push up\".format(pushup.varValue))\n",
    "print(\"Do {} running\".format(run.varValue))"
   ]
  },
  {
   "cell_type": "markdown",
   "metadata": {},
   "source": [
    "# 2. Now, Let's jump to real (yet simple) and more relevant Business Case = Resource Scheduling\n",
    "You are a data analyst consultant for boutique cake bakery that sell 2 types of cakes (cake A and cake B)\n",
    "\n",
    "## Current Condition\n",
    "There is only 1 oven, 2 bakers and 1 packaging packer who only works 22 days"
   ]
  },
  {
   "cell_type": "markdown",
   "metadata": {},
   "source": [
    "## Different resource need for 2 types of cakes is shown by Pandas Dataframe below"
   ]
  },
  {
   "cell_type": "code",
   "execution_count": 16,
   "metadata": {},
   "outputs": [
    {
     "data": {
      "text/html": [
       "<div>\n",
       "<style scoped>\n",
       "    .dataframe tbody tr th:only-of-type {\n",
       "        vertical-align: middle;\n",
       "    }\n",
       "\n",
       "    .dataframe tbody tr th {\n",
       "        vertical-align: top;\n",
       "    }\n",
       "\n",
       "    .dataframe thead th {\n",
       "        text-align: right;\n",
       "    }\n",
       "</style>\n",
       "<table border=\"1\" class=\"dataframe\">\n",
       "  <thead>\n",
       "    <tr style=\"text-align: right;\">\n",
       "      <th></th>\n",
       "      <th>Resource</th>\n",
       "      <th>Cake A</th>\n",
       "      <th>Cake B</th>\n",
       "    </tr>\n",
       "  </thead>\n",
       "  <tbody>\n",
       "    <tr>\n",
       "      <td>0</td>\n",
       "      <td>Oven</td>\n",
       "      <td>0.5 day</td>\n",
       "      <td>1 day</td>\n",
       "    </tr>\n",
       "    <tr>\n",
       "      <td>1</td>\n",
       "      <td>Bakers</td>\n",
       "      <td>1 day</td>\n",
       "      <td>2.5 days</td>\n",
       "    </tr>\n",
       "    <tr>\n",
       "      <td>2</td>\n",
       "      <td>Packers</td>\n",
       "      <td>1 day</td>\n",
       "      <td>2 days</td>\n",
       "    </tr>\n",
       "  </tbody>\n",
       "</table>\n",
       "</div>"
      ],
      "text/plain": [
       "  Resource   Cake A    Cake B\n",
       "0     Oven  0.5 day     1 day\n",
       "1   Bakers    1 day  2.5 days\n",
       "2  Packers    1 day    2 days"
      ]
     },
     "execution_count": 16,
     "metadata": {},
     "output_type": "execute_result"
    }
   ],
   "source": [
    "data=[['Oven','0.5 day','1 day'],\n",
    "      ['Bakers','1 day','2.5 days'],\n",
    "      ['Packers','1 day','2 days']]\n",
    "\n",
    "df = pd.DataFrame(data,columns=['Resource','Cake A','Cake B'])\n",
    "\n",
    "df"
   ]
  },
  {
   "cell_type": "markdown",
   "metadata": {},
   "source": [
    "## Profit that we will get \n",
    "- from cake A : USD 20.00 \n",
    "- from cake B : USD 40.00"
   ]
  },
  {
   "cell_type": "markdown",
   "metadata": {},
   "source": [
    "# Solution : \n",
    "### 1. Initialize Model"
   ]
  },
  {
   "cell_type": "code",
   "execution_count": 17,
   "metadata": {},
   "outputs": [],
   "source": [
    "from pulp import *\n",
    "\n",
    "model = LpProblem(\"Maximize Bakery Profits\", LpMaximize)"
   ]
  },
  {
   "cell_type": "markdown",
   "metadata": {},
   "source": [
    "### 2. Define Decision Variables"
   ]
  },
  {
   "cell_type": "code",
   "execution_count": 18,
   "metadata": {},
   "outputs": [],
   "source": [
    "A = LpVariable('A', lowBound=0, cat='Integer')\n",
    "B = LpVariable('B', lowBound=0, cat='Integer')"
   ]
  },
  {
   "cell_type": "markdown",
   "metadata": {},
   "source": [
    "### 3. Define Objective Function"
   ]
  },
  {
   "cell_type": "code",
   "execution_count": 19,
   "metadata": {},
   "outputs": [],
   "source": [
    "model += 20 * A + 40 * B"
   ]
  },
  {
   "cell_type": "markdown",
   "metadata": {},
   "source": [
    "### 4. Define Constraints"
   ]
  },
  {
   "cell_type": "code",
   "execution_count": 20,
   "metadata": {},
   "outputs": [],
   "source": [
    "model += 0.5 * A + 1 * B <= 30\n",
    "model += 1 * A + 2.5 * B <= 60\n",
    "model += 1 * A + 2 * B <= 22"
   ]
  },
  {
   "cell_type": "markdown",
   "metadata": {},
   "source": [
    "### 5. Solve Model"
   ]
  },
  {
   "cell_type": "code",
   "execution_count": 21,
   "metadata": {},
   "outputs": [
    {
     "name": "stdout",
     "output_type": "stream",
     "text": [
      "Produce 0.0 Cake A\n",
      "Produce 11.0 Cake B\n"
     ]
    }
   ],
   "source": [
    "model.solve()\n",
    "print(\"Produce {} Cake A\".format(A.varValue))\n",
    "print(\"Produce {} Cake B\".format(B.varValue))"
   ]
  },
  {
   "cell_type": "markdown",
   "metadata": {},
   "source": [
    "From LP model result above, we could say that the best way to maximize our profit is : \n",
    "- produce 11 cake B\n",
    "- not produce cake A \n",
    "\n",
    "this is make sense since Cake B generates more profit double than Cake A while the resource needed is not that far"
   ]
  },
  {
   "cell_type": "markdown",
   "metadata": {},
   "source": [
    "# 3. But, there's no way a bakery only sell 2 types of cake in real world. So we need way to sum many variables\n",
    "### We can use lpSum(), used in list comprehension like shown by example below"
   ]
  },
  {
   "cell_type": "code",
   "execution_count": 22,
   "metadata": {},
   "outputs": [],
   "source": [
    "# Define Decision Variables\n",
    "A = LpVariable('A', lowBound=0, cat='Integer')\n",
    "\n",
    "B = LpVariable('B', lowBound=0, cat='Integer')\n",
    "\n",
    "C = LpVariable('C', lowBound=0, cat='Integer')\n",
    "\n",
    "D = LpVariable('D', lowBound=0, cat='Integer')\n",
    "\n",
    "E = LpVariable('E', lowBound=0, cat='Integer')\n",
    "\n",
    "F = LpVariable('F', lowBound=0, cat='Integer')"
   ]
  },
  {
   "cell_type": "code",
   "execution_count": 23,
   "metadata": {},
   "outputs": [
    {
     "name": "stderr",
     "output_type": "stream",
     "text": [
      "D:\\Users\\bsi80086\\AppData\\Local\\Continuum\\anaconda3\\lib\\site-packages\\pulp\\pulp.py:1704: UserWarning: Overwriting previously set objective.\n",
      "  warnings.warn(\"Overwriting previously set objective.\")\n"
     ]
    }
   ],
   "source": [
    "# Define Objective function\n",
    "cake_types = [\"A\",\"B\",\"C\",\"D\",\"E\",\"F\"]\n",
    "\n",
    "profit_by_cake = {\"A\":20, \"B\":40, \"C\":33, \"D\":14, \"E\":6, \"F\":60}\n",
    "\n",
    "var_dict = {\"A\":A, \"B\":B, \"C\":C, \"D\":D, \"E\":E, \"F\":F}\n",
    "\n",
    "model += lpSum([profit_by_cake[type] * var_dict[type]\n",
    "                for type in cake_types])"
   ]
  }
 ],
 "metadata": {
  "kernelspec": {
   "display_name": "Python 3",
   "language": "python",
   "name": "python3"
  },
  "language_info": {
   "codemirror_mode": {
    "name": "ipython",
    "version": 3
   },
   "file_extension": ".py",
   "mimetype": "text/x-python",
   "name": "python",
   "nbconvert_exporter": "python",
   "pygments_lexer": "ipython3",
   "version": "3.7.4"
  }
 },
 "nbformat": 4,
 "nbformat_minor": 2
}
