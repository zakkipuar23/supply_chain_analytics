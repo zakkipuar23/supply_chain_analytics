{
 "cells": [
  {
   "cell_type": "markdown",
   "metadata": {},
   "source": [
    "# Logistic Planning Problem\n",
    "You are consulting for kitchen oven manufacturer helping to plan their logistics for next month. \n",
    "\n",
    "### Condition : \n",
    "- There are two warehouse locations (New York, and Atlanta), and four regional customer locations (East, South, Midwest, West). \n",
    "- The expected demand next month for East it is 1,800, for South it is 1,200, for the Midwest it is 1,100, and for West it is 1000. \n",
    "- The cost for shipping each of the warehouse locations to the regional customer's is listed in the dictionary below. "
   ]
  },
  {
   "cell_type": "code",
   "execution_count": 1,
   "metadata": {},
   "outputs": [],
   "source": [
    "costs = {('New York', 'East')   : 211,\n",
    "         ('New York', 'South')  : 232,\n",
    "         ('New York', 'Midwest'): 240,\n",
    "         ('New York', 'West')   : 300,\n",
    "         ('Atlanta', 'East')    : 232,\n",
    "         ('Atlanta', 'South')   : 212,\n",
    "         ('Atlanta', 'Midwest') : 230,\n",
    "         ('Atlanta', 'West')    : 280}"
   ]
  },
  {
   "cell_type": "markdown",
   "metadata": {},
   "source": [
    "### Objective : \n",
    "fulfill the regional demand at the lowest price."
   ]
  },
  {
   "cell_type": "markdown",
   "metadata": {},
   "source": [
    "### Strategy :\n",
    "1. To make it more simple, let's create var_dict that consist abbreviation of each route "
   ]
  },
  {
   "cell_type": "code",
   "execution_count": 2,
   "metadata": {},
   "outputs": [],
   "source": [
    "var_dict = { ('New York', 'East')   : 'ne',\n",
    "             ('New York', 'South')  : 'ns',\n",
    "             ('New York', 'Midwest'): 'nm',\n",
    "             ('New York', 'West')   : 'nw',\n",
    "             ('Atlanta', 'East')    : 'atle',\n",
    "             ('Atlanta', 'South')   : 'atls',\n",
    "             ('Atlanta', 'Midwest') : 'atlm',\n",
    "             ('Atlanta', 'West')    : 'atlw'}"
   ]
  },
  {
   "cell_type": "code",
   "execution_count": 3,
   "metadata": {},
   "outputs": [
    {
     "name": "stderr",
     "output_type": "stream",
     "text": [
      "D:\\Users\\bsi80086\\AppData\\Local\\Continuum\\anaconda3\\lib\\site-packages\\pulp\\pulp.py:1352: UserWarning: Spaces are not permitted in the name. Converted to '_'\n",
      "  warnings.warn(\"Spaces are not permitted in the name. Converted to '_'\")\n"
     ]
    }
   ],
   "source": [
    "from pulp import *\n",
    "\n",
    "# Initialize Model\n",
    "model = LpProblem(\"Minimize Transportation Costs\", LpMinimize)"
   ]
  },
  {
   "cell_type": "code",
   "execution_count": 4,
   "metadata": {},
   "outputs": [],
   "source": [
    "# Build the lists and the demand dictionary\n",
    "warehouse = ['New York', 'Atlanta']\n",
    "customers = ['East', 'South', 'Midwest', 'West']\n",
    "regional_demand = [1800, 1200, 1100, 1000]\n",
    "demand = dict(zip(customers, regional_demand))"
   ]
  },
  {
   "cell_type": "code",
   "execution_count": 5,
   "metadata": {},
   "outputs": [],
   "source": [
    "# Define Objective\n",
    "transport = LpVariable.dicts(\"route\", [(w, c) for w in warehouse for c in customers]) \n",
    "model += lpSum([costs[(w, c)] * transport[(w, c)]\n",
    "                for w in warehouse for c in customers])"
   ]
  },
  {
   "cell_type": "code",
   "execution_count": null,
   "metadata": {
    "pycharm": {
     "name": "#%%\n"
    }
   },
   "outputs": [],
   "source": []
  }
 ],
 "metadata": {
  "kernelspec": {
   "display_name": "Python 3",
   "language": "python",
   "name": "python3"
  },
  "language_info": {
   "codemirror_mode": {
    "name": "ipython",
    "version": 3
   },
   "file_extension": ".py",
   "mimetype": "text/x-python",
   "name": "python",
   "nbconvert_exporter": "python",
   "pygments_lexer": "ipython3",
   "version": "3.7.4"
  }
 },
 "nbformat": 4,
 "nbformat_minor": 2
}
